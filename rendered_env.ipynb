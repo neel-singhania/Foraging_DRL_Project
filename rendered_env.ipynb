{
  "nbformat": 4,
  "nbformat_minor": 5,
  "metadata": {
    "kernelspec": {
      "name": "python3",
      "display_name": "Python 3.8.10 64-bit"
    },
    "language_info": {
      "codemirror_mode": {
        "name": "ipython",
        "version": 3
      },
      "file_extension": ".py",
      "mimetype": "text/x-python",
      "name": "python",
      "nbconvert_exporter": "python",
      "pygments_lexer": "ipython3",
      "version": "3.8.10"
    },
    "interpreter": {
      "hash": "916dbcbb3f70747c44a77c7bcd40155683ae19c65e1c03b4aa3499c5328201f1"
    },
    "colab": {
      "name": "rendered_env.ipynb",
      "provenance": [],
      "collapsed_sections": []
    },
    "accelerator": "GPU"
  },
  "cells": [
    {
      "cell_type": "code",
      "execution_count": 1,
      "source": [
        "import numpy as np \n",
        "import cv2 \n",
        "import matplotlib.pyplot as plt\n",
        "import PIL.Image as Image\n",
        "import gym\n",
        "import random\n",
        "\n",
        "from google.colab.patches import cv2_imshow\n",
        "\n",
        "from gym import Env, spaces\n",
        "import time\n",
        "\n",
        "font = cv2.FONT_HERSHEY_COMPLEX_SMALL "
      ],
      "outputs": [
        {
          "output_type": "error",
          "ename": "ModuleNotFoundError",
          "evalue": "No module named 'google'",
          "traceback": [
            "\u001b[0;31m---------------------------------------------------------------------------\u001b[0m",
            "\u001b[0;31mModuleNotFoundError\u001b[0m                       Traceback (most recent call last)",
            "\u001b[0;32m/tmp/ipykernel_2427/1986497939.py\u001b[0m in \u001b[0;36m<module>\u001b[0;34m\u001b[0m\n\u001b[1;32m      6\u001b[0m \u001b[0;32mimport\u001b[0m \u001b[0mrandom\u001b[0m\u001b[0;34m\u001b[0m\u001b[0;34m\u001b[0m\u001b[0m\n\u001b[1;32m      7\u001b[0m \u001b[0;34m\u001b[0m\u001b[0m\n\u001b[0;32m----> 8\u001b[0;31m \u001b[0;32mfrom\u001b[0m \u001b[0mgoogle\u001b[0m\u001b[0;34m.\u001b[0m\u001b[0mcolab\u001b[0m\u001b[0;34m.\u001b[0m\u001b[0mpatches\u001b[0m \u001b[0;32mimport\u001b[0m \u001b[0mcv2_imshow\u001b[0m\u001b[0;34m\u001b[0m\u001b[0;34m\u001b[0m\u001b[0m\n\u001b[0m\u001b[1;32m      9\u001b[0m \u001b[0;34m\u001b[0m\u001b[0m\n\u001b[1;32m     10\u001b[0m \u001b[0;32mfrom\u001b[0m \u001b[0mgym\u001b[0m \u001b[0;32mimport\u001b[0m \u001b[0mEnv\u001b[0m\u001b[0;34m,\u001b[0m \u001b[0mspaces\u001b[0m\u001b[0;34m\u001b[0m\u001b[0;34m\u001b[0m\u001b[0m\n",
            "\u001b[0;31mModuleNotFoundError\u001b[0m: No module named 'google'"
          ]
        }
      ],
      "metadata": {
        "id": "yxcjmdgYEpQg"
      }
    },
    {
      "cell_type": "code",
      "execution_count": null,
      "source": [
        "class Object(object):\n",
        "    def __init__(self, name, x_max, x_min, y_max, y_min):\n",
        "        self.x = 0\n",
        "        self.y = 0\n",
        "        self.x_min = x_min\n",
        "        self.x_max = x_max\n",
        "        self.y_min = y_min\n",
        "        self.y_max = y_max\n",
        "        self.name = name\n",
        "    \n",
        "    def set_position(self, x, y):\n",
        "        self.x = self.clamp(x, self.x_min, self.x_max - self.icon_w)\n",
        "        self.y = self.clamp(y, self.y_min, self.y_max - self.icon_h)\n",
        "    \n",
        "    def move(self, del_x):\n",
        "        self.x += del_x\n",
        "        self.x = self.clamp(self.x, self.x_min, self.x_max - self.icon_w)\n",
        "\n",
        "    def clamp(self, n, minn, maxn):\n",
        "        return max(min(maxn, n), minn)\n",
        "    \n",
        "class Agent(Object):\n",
        "    def __init__(self, name, x_max, x_min, y_max, y_min):\n",
        "        super(Agent, self).__init__(name, x_max, x_min, y_max, y_min)\n",
        "        self.icon = cv2.imread(\"agent.jpg\") / 255.0\n",
        "        self.icon_w = 64\n",
        "        self.icon_h = 64\n",
        "        self.icon = cv2.resize(self.icon, (self.icon_h, self.icon_w))\n",
        "\n",
        "    \n",
        "class Bush(Object):\n",
        "    def __init__(self, name, x_max, x_min, y_max, y_min):\n",
        "        super(Bush, self).__init__(name, x_max, x_min, y_max, y_min)\n",
        "        self.bush_type = 0\n",
        "        r = random.random()\n",
        "        if r<=0.5:\n",
        "            self.icon = cv2.imread(\"bush1.png\") / 255.0\n",
        "            self.bush_type = 0\n",
        "        else:\n",
        "            self.icon = cv2.imread(\"bush2.jpg\") / 255.0\n",
        "            self.bush_type = 1\n",
        "        self.icon_w = 100\n",
        "        self.icon_h = 100\n",
        "        self.icon = cv2.resize(self.icon, (self.icon_h, self.icon_w))"
      ],
      "outputs": [],
      "metadata": {
        "id": "bzeGSzjZEpQk"
      }
    },
    {
      "cell_type": "code",
      "execution_count": null,
      "source": [
        "class Foraging(Env):\n",
        "    def __init__(self):\n",
        "        super(Foraging, self).__init__()\n",
        "        \n",
        "\n",
        "        \n",
        "        # Define a 2-D observation space\n",
        "        self.observation_shape = (600, 800, 3)\n",
        "        self.observation_space = spaces.Box(low = np.zeros(self.observation_shape), \n",
        "                                            high = np.ones(self.observation_shape),\n",
        "                                            dtype = 'float64')\n",
        "    \n",
        "    \n",
        "        self.action_space = spaces.Discrete(2,)\n",
        "                        \n",
        "        self.canvas = np.ones(self.observation_shape) * 1\n",
        "        \n",
        "        self.elements = []\n",
        "        \n",
        "        self.n = 0\n",
        "        self.elapsed_time = 0\n",
        "        \n",
        "        self.interval_time = 10\n",
        "        self.decision_time = 2\n",
        "        self.total_time = 240\n",
        "        \n",
        "        self.total_rewards  = 0\n",
        "        self.current_reward = 0\n",
        "\n",
        "        self.y_min = int (self.observation_shape[0] * 0.1)\n",
        "        self.x_min = 0\n",
        "        self.y_max = int (self.observation_shape[0] * 0.9)\n",
        "        self.x_max = self.observation_shape[1]\n",
        "\n",
        "    def draw_elements_on_canvas(self): \n",
        "        self.canvas = np.ones(self.observation_shape) * 1\n",
        "        \n",
        "        for elem in self.elements:\n",
        "            elem_shape = elem.icon.shape\n",
        "            x,y = elem.x, elem.y\n",
        "            self.canvas[y : y + elem_shape[1], x:x + elem_shape[0]] = elem.icon\n",
        "\n",
        "        text = 'Time Passed: {} | Total Rewards: {} | Current Reward: {}'.format(self.elapsed_time, self.total_rewards, self.current_reward)\n",
        "\n",
        "        self.canvas = cv2.putText(self.canvas, text, (10,20), font,  \n",
        "                   0.8, (0,0,0), 1, cv2.LINE_AA)\n",
        "        \n",
        "    def reset_agent(self):\n",
        "        x_agent = int(self.observation_shape[0] * 0.25) \n",
        "        y_agent = int(self.observation_shape[1] * 0.3)\n",
        "                      \n",
        "        self.agent = Agent(\"agent\", self.x_max, self.x_min, self.y_max, self.y_min)\n",
        "        self.agent.set_position(x_agent,y_agent)\n",
        "\n",
        "    def reset_bush(self):\n",
        "        x_bush = self.agent.x + int(self.observation_shape[0] * 0.15)\n",
        "        y_bush = int(self.observation_shape[1] * 0.28)\n",
        "        \n",
        "        self.bush = Bush(\"bush\", self.x_max, self.x_min, self.y_max, self.y_min)\n",
        "        self.bush.set_position(x_bush,y_bush)\n",
        "    \n",
        "    def reset(self):\n",
        "        self.n = 0\n",
        "        \n",
        "        self.elapsed_time = 0\n",
        "\n",
        "        self.total_rewards  = 0\n",
        "        self.current_reward = 0\n",
        "\n",
        "        self.reset_agent()\n",
        "        self.reset_bush()\n",
        "         \n",
        "        self.elements = [self.agent, self.bush]\n",
        "\n",
        "        self.draw_elements_on_canvas()\n",
        "\n",
        "        return self.canvas \n",
        "\n",
        "    def render(self, mode = \"human\"):\n",
        "        assert mode in [\"human\", \"human\"], \"Invalid render mode\"\n",
        "        if mode == \"human\":\n",
        "            cv2_imshow(self.canvas)\n",
        "            cv2.waitKey(1000)\n",
        "\n",
        "        elif mode == \"human\":\n",
        "            return self.canvas\n",
        "\n",
        "    def close(self):\n",
        "        cv2.destroyAllWindows()\n",
        "        \n",
        "    def get_action_meanings(self):\n",
        "        return {0: \"Leave\", 1: \"Harvest\"}\n",
        "    \n",
        "    def seed(self,seed=None) -> None:\n",
        "        np.random.seed(seed)\n",
        "        random.seed(seed)\n",
        "\n",
        "    def step(self, action):\n",
        "        \n",
        "        done = False\n",
        "        assert self.action_space.contains(action), \"Invalid Action\" \n",
        "        self.current_reward = 0      \n",
        "        \n",
        "        if action == 1:\n",
        "            if self.elapsed_time + self.decision_time > self.total_time:\n",
        "                done=True\n",
        "            else:\n",
        "                for i in range(self.decision_time-1):\n",
        "                    self.elapsed_time += 1\n",
        "                    # self.draw_elements_on_canvas()\n",
        "                    # self.render(mode = \"human\")\n",
        "                    \n",
        "                self.elapsed_time += 1\n",
        "                if self.bush.bush_type == 0:\n",
        "                    reward_mean = 7\n",
        "                else: \n",
        "                    reward_mean = 15 \n",
        "                self.current_reward = reward_mean - 0.5*self.n + np.random.normal(0,0.025,1)\n",
        "                self.total_rewards += self.current_reward\n",
        "                self.n += 1\n",
        "                # self.draw_elements_on_canvas()\n",
        "                # self.render(mode = \"human\")\n",
        "                \n",
        "        elif action == 0:\n",
        "            if self.elapsed_time + self.interval_time > self.total_time:\n",
        "                done=True\n",
        "            else:\n",
        "                self.n = 0\n",
        "                self.elapsed_time += 1\n",
        "                \n",
        "                self.elements.remove(self.bush)\n",
        "                # self.draw_elements_on_canvas()\n",
        "                # self.render(mode = \"human\")\n",
        "                \n",
        "                self.elapsed_time += 1\n",
        "                \n",
        "                step_size = int(self.observation_shape[0] * 0.075)\n",
        "                \n",
        "                self.bush = Bush(\"bush\", self.x_max, self.x_min, self.y_max, self.y_min)\n",
        "                bush_x = self.agent.x + step_size + (step_size * (self.interval_time-1))\n",
        "                bush_y = y_bush = int(self.observation_shape[1] * 0.28)\n",
        "                self.bush.set_position(bush_x, bush_y)\n",
        "                self.elements.append(self.bush)\n",
        "                # self.draw_elements_on_canvas()\n",
        "                # self.render(mode = \"human\")\n",
        "                \n",
        "                for i in range(self.interval_time-2):\n",
        "                    self.bush.move(-step_size)\n",
        "                    self.elapsed_time += 1\n",
        "                    # self.draw_elements_on_canvas()\n",
        "                    # self.render(mode = \"human\")\n",
        "\n",
        "        if self.elapsed_time == self.total_time:\n",
        "            done = True\n",
        "\n",
        "        return self.n, self.current_reward, done, []"
      ],
      "outputs": [],
      "metadata": {
        "id": "zfS3Px-hEpQl"
      }
    },
    {
      "cell_type": "code",
      "execution_count": null,
      "source": [
        "env = Foraging()\n",
        "obs = env.reset()\n",
        "plt.imshow(obs)"
      ],
      "outputs": [
        {
          "output_type": "execute_result",
          "data": {
            "text/plain": [
              "<matplotlib.image.AxesImage at 0x7f00986185d0>"
            ]
          },
          "metadata": {},
          "execution_count": 12
        },
        {
          "output_type": "display_data",
          "data": {
            "image/png": "[encoded data removed]",
            "text/plain": [
              "<Figure size 432x288 with 1 Axes>"
            ]
          },
          "metadata": {
            "needs_background": "light"
          }
        }
      ],
      "metadata": {
        "colab": {
          "base_uri": "https://localhost:8080/",
          "height": 286
        },
        "id": "fM610pHxEpQm",
        "outputId": "62b97525-ba8a-48e0-c078-ac461e26a64a"
      }
    },
    {
      "cell_type": "code",
      "execution_count": null,
      "source": [
        "from IPython import display\n",
        "env = Foraging()\n",
        "obs = env.reset()\n",
        "env.seed(42)\n",
        "\n",
        "e = 0\n",
        "done = False\n",
        "env.action_space.seed(37)\n",
        "total_reward = 0\n",
        "while not done:\n",
        "    # Take a random action\n",
        "    action = env.action_space.sample()\n",
        "    e = e+1\n",
        "    total_reward += reward\n",
        "    obs, reward, done, info = env.step(action)\n",
        "    print(f\"State: {obs} | Reward: {reward}\")\n",
        "\n",
        "env.close()"
      ],
      "outputs": [
        {
          "output_type": "stream",
          "name": "stdout",
          "text": [
            "State: 0 | Reward: 0\n",
            "State: 1 | Reward: [15.01241785]\n",
            "State: 2 | Reward: [14.49654339]\n",
            "State: 3 | Reward: [14.01619221]\n",
            "State: 4 | Reward: [13.53807575]\n",
            "State: 0 | Reward: 0\n",
            "State: 1 | Reward: [6.99414617]\n",
            "State: 0 | Reward: 0\n",
            "State: 0 | Reward: 0\n",
            "State: 1 | Reward: [6.99414658]\n",
            "State: 2 | Reward: [6.53948032]\n",
            "State: 0 | Reward: 0\n",
            "State: 1 | Reward: [15.01918587]\n",
            "State: 2 | Reward: [14.48826314]\n",
            "State: 0 | Reward: 0\n",
            "State: 1 | Reward: [15.013564]\n",
            "State: 2 | Reward: [14.48841456]\n",
            "State: 0 | Reward: 0\n",
            "State: 0 | Reward: 0\n",
            "State: 0 | Reward: 0\n",
            "State: 1 | Reward: [6.98835676]\n",
            "State: 2 | Reward: [6.50604906]\n",
            "State: 0 | Reward: 0\n",
            "State: 0 | Reward: 0\n",
            "State: 0 | Reward: 0\n",
            "State: 0 | Reward: 0\n",
            "State: 0 | Reward: 0\n",
            "State: 0 | Reward: 0\n",
            "State: 1 | Reward: [14.95216799]\n",
            "State: 0 | Reward: 0\n",
            "State: 1 | Reward: [14.95687705]\n",
            "State: 2 | Reward: [14.48594281]\n",
            "State: 0 | Reward: 0\n",
            "State: 1 | Reward: [6.97467922]\n",
            "State: 2 | Reward: [6.50785618]\n",
            "State: 0 | Reward: 0\n",
            "State: 1 | Reward: [14.9772994]\n",
            "State: 0 | Reward: 0\n",
            "State: 0 | Reward: 0\n",
            "State: 1 | Reward: [6.96469241]\n"
          ]
        }
      ],
      "metadata": {
        "colab": {
          "base_uri": "https://localhost:8080/"
        },
        "id": "UqDJNQagEpQn",
        "outputId": "392b930c-e1e8-422f-f5a8-9a67d1f1567c"
      }
    },
    {
      "cell_type": "code",
      "execution_count": null,
      "source": [
        "total_reward"
      ],
      "outputs": [
        {
          "output_type": "execute_result",
          "data": {
            "text/plain": [
              "array([281.566915])"
            ]
          },
          "metadata": {},
          "execution_count": 70
        }
      ],
      "metadata": {
        "id": "2Sq23vAZFB1d",
        "colab": {
          "base_uri": "https://localhost:8080/"
        },
        "outputId": "086ee2d2-c39a-4d25-ca72-7af9f1f68b7a"
      }
    },
    {
      "cell_type": "code",
      "execution_count": null,
      "source": [
        "ac = [0,\n",
        " 1,\n",
        " 0,\n",
        " 0,\n",
        " 1,\n",
        " 1,\n",
        " 1,\n",
        " 0,\n",
        " 0,\n",
        " 1,\n",
        " 0,\n",
        " 1,\n",
        " 0,\n",
        " 0,\n",
        " 1,\n",
        " 1,\n",
        " 0,\n",
        " 1,\n",
        " 1,\n",
        " 1,\n",
        " 0,\n",
        " 1,\n",
        " 0,\n",
        " 0,\n",
        " 1,\n",
        " 0,\n",
        " 0,\n",
        " 1,\n",
        " 1,\n",
        " 1,\n",
        " 0,\n",
        " 0,\n",
        " 0,\n",
        " 0,\n",
        " 0,\n",
        " 1,\n",
        " 0,\n",
        " 0]"
      ],
      "outputs": [],
      "metadata": {
        "id": "NPI0XpQFi1Q3"
      }
    },
    {
      "cell_type": "code",
      "execution_count": null,
      "source": [
        "action_list==ac"
      ],
      "outputs": [
        {
          "output_type": "execute_result",
          "data": {
            "text/plain": [
              "True"
            ]
          },
          "metadata": {},
          "execution_count": 51
        }
      ],
      "metadata": {
        "colab": {
          "base_uri": "https://localhost:8080/"
        },
        "id": "zlPUM-jQx8xQ",
        "outputId": "62286bd6-1a17-4cda-f1f0-7abe47fb0ad1"
      }
    },
    {
      "cell_type": "code",
      "execution_count": null,
      "source": [],
      "outputs": [],
      "metadata": {
        "id": "QN63PEFUx-nE"
      }
    }
  ]
}